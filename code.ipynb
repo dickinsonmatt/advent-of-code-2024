{
 "cells": [
  {
   "cell_type": "markdown",
   "metadata": {},
   "source": [
    "# Day one\n",
    "\n",
    "## Part 1\n",
    "\n",
    "Given two lists find the sum of the difference between the two in ascending order"
   ]
  },
  {
   "cell_type": "code",
   "execution_count": null,
   "metadata": {},
   "outputs": [
    {
     "name": "stdout",
     "output_type": "stream",
     "text": [
      "[12823, 74540, 37687, 83750, 43380]\n",
      "[12823, 88907, 50218, 57255, 59171]\n"
     ]
    }
   ],
   "source": [
    "# open locations document\n",
    "with open('locations.txt', 'r') as file:\n",
    "    doc = file.read()\n",
    "\n",
    "first_column = []\n",
    "second_column = []\n",
    "\n",
    "# split each line and make it a list \n",
    "# there are 3 spaces in the middle so grab the first and last place\n",
    "for line in doc.splitlines():\n",
    "    obj = line.split(\" \")\n",
    "\n",
    "    first_column.append(int(obj[0]))\n",
    "    second_column.append(int(obj[-1]))\n",
    "\n",
    "# print(first_column[:5])\n",
    "# print(second_column[:5])"
   ]
  },
  {
   "cell_type": "code",
   "execution_count": 72,
   "metadata": {},
   "outputs": [
    {
     "data": {
      "text/plain": [
       "3714264"
      ]
     },
     "execution_count": 72,
     "metadata": {},
     "output_type": "execute_result"
    }
   ],
   "source": [
    "import pandas as pd\n",
    "\n",
    "# store each list as a pd column for easy sorting and data manipulation\n",
    "first = pd.Series(first_column)\n",
    "second = pd.Series(second_column)\n",
    "\n",
    "# sort by ascending\n",
    "first = first.sort_values(ignore_index=True)\n",
    "second = second.sort_values(ignore_index=True)\n",
    "\n",
    "# make df of values\n",
    "locations = pd.concat([first, second], axis = 1).rename(columns = {0: \"first\", 1: \"second\"})\n",
    "\n",
    "# sum of the absolute value of difference\n",
    "sum(abs(locations['first'] - locations['second']))\n"
   ]
  },
  {
   "cell_type": "markdown",
   "metadata": {},
   "source": [
    "## Part two\n",
    "\n",
    "Given two lists of numbers, how often do the values in the second ('right') list appear in the first. Multiple the first column by that sum and find the summation of all values."
   ]
  },
  {
   "cell_type": "code",
   "execution_count": 138,
   "metadata": {},
   "outputs": [
    {
     "name": "stdout",
     "output_type": "stream",
     "text": [
      "1000\n",
      "625\n",
      "414\n",
      "        count\n",
      "second       \n",
      "46571      20\n",
      "21816      20\n",
      "57426      20\n",
      "67099      19\n",
      "70651      18\n"
     ]
    }
   ],
   "source": [
    "# number unique in first column\n",
    "unique_first = locations['first'].unique()\n",
    "print(len(unique_first)) # 1000 - each value is unique\n",
    "\n",
    "# number unique in second column\n",
    "unique_second = locations['second'].unique()\n",
    "print(len(unique_second)) # 625 - contain duplicates\n",
    "\n",
    "# how many values do they have in common\n",
    "first_in_second = locations[locations['second'].isin(locations['first'])]\n",
    "print(len(first_in_second)) # 414\n",
    "\n",
    "# of those that are in common how often do they occur\n",
    "repeated_in_second = first_in_second['second'].value_counts()\n",
    "print(repeated_in_second.to_frame().head())"
   ]
  },
  {
   "cell_type": "code",
   "execution_count": null,
   "metadata": {},
   "outputs": [
    {
     "data": {
      "text/plain": [
       "18805872.0"
      ]
     },
     "execution_count": 174,
     "metadata": {},
     "output_type": "execute_result"
    }
   ],
   "source": [
    "# join summarized information on to first list and filled in missing values with 0\n",
    "repeated_times = locations.set_index('first').join(repeated_in_second, how = \"left\")['count'].reset_index().fillna(0)\n",
    "\n",
    "# multiple the columns and find the sum\n",
    "# do not need to account for adding the same value as before in the first column as we know it is entirely unique\n",
    "sum(repeated_times['first'] * repeated_times['count'])"
   ]
  }
 ],
 "metadata": {
  "kernelspec": {
   "display_name": "Python 3",
   "language": "python",
   "name": "python3"
  },
  "language_info": {
   "codemirror_mode": {
    "name": "ipython",
    "version": 3
   },
   "file_extension": ".py",
   "mimetype": "text/x-python",
   "name": "python",
   "nbconvert_exporter": "python",
   "pygments_lexer": "ipython3",
   "version": "3.10.6"
  }
 },
 "nbformat": 4,
 "nbformat_minor": 2
}
